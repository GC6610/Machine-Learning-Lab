{
 "cells": [
  {
   "cell_type": "code",
   "execution_count": 1,
   "metadata": {
    "id": "DZXl9MUWFHyC"
   },
   "outputs": [
    {
     "name": "stderr",
     "output_type": "stream",
     "text": [
      "2022-04-08 16:13:42.662431: W tensorflow/stream_executor/platform/default/dso_loader.cc:64] Could not load dynamic library 'libcudart.so.11.0'; dlerror: libcudart.so.11.0: cannot open shared object file: No such file or directory\n",
      "2022-04-08 16:13:42.662469: I tensorflow/stream_executor/cuda/cudart_stub.cc:29] Ignore above cudart dlerror if you do not have a GPU set up on your machine.\n"
     ]
    }
   ],
   "source": [
    "#install required libraries\n",
    "import pandas as pd\n",
    "import numpy as np\n",
    "import tensorflow as tf\n",
    "#data visualization packages\n",
    "import matplotlib.pyplot as plt\n",
    "#keras packages\n",
    "import keras\n",
    "from keras.models import Sequential\n",
    "from keras.layers import Convolution2D\n",
    "from keras.layers import MaxPooling2D\n",
    "from keras.layers import Flatten\n",
    "from keras.layers import Dense\n",
    "from keras.wrappers.scikit_learn import KerasClassifier\n",
    "from keras.layers import Dropout\n",
    "from keras import metrics \n",
    "#model evaluation packages\n",
    "from sklearn.metrics import f1_score, roc_auc_score, log_loss\n",
    "from sklearn.model_selection import cross_val_score, cross_validate"
   ]
  },
  {
   "cell_type": "markdown",
   "metadata": {
    "id": "oMldjK_FFJE2"
   },
   "source": [
    "Using TensorFlow backend."
   ]
  },
  {
   "cell_type": "code",
   "execution_count": 20,
   "metadata": {
    "colab": {
     "base_uri": "https://localhost:8080/"
    },
    "id": "xTDgdJYVFNwH",
    "outputId": "0538a36a-8039-4dc5-d6f2-1541fb50470c"
   },
   "outputs": [
    {
     "name": "stdout",
     "output_type": "stream",
     "text": [
      "(60000, 28, 28, 1) (60000,) (10000, 28, 28, 1) (10000,)\n"
     ]
    }
   ],
   "source": [
    "tf.keras.datasets.fashion_mnist.load_data()\n",
    "#read mnist fashion dataset\n",
    "mnist = tf.keras.datasets.fashion_mnist.load_data()\n",
    "(X_train, y_train), (X_test, y_test) = mnist\n",
    "X_train = X_train.reshape((X_train.shape[0], X_train.shape[1], X_train.shape[2], 1))\n",
    "X_test = X_test.reshape((X_test.shape[0],X_test.shape[1],X_test.shape[2],1)) \n",
    "print(X_train.shape, y_train.shape, X_test.shape, y_test.shape)\n",
    "#normalizing the pixel values\n",
    "X_train=X_train/255\n",
    "X_test=X_test/255"
   ]
  },
  {
   "cell_type": "code",
   "execution_count": 21,
   "metadata": {},
   "outputs": [
    {
     "name": "stdout",
     "output_type": "stream",
     "text": [
      "(70000, 28, 28, 1) (70000,)\n"
     ]
    }
   ],
   "source": [
    "#five fold cross validation\n",
    "#total rows= 70000\n",
    "#splitting 5 fold so each split has 14000 now here 4/5 give it to training and 1/5 to testing data\n",
    "X=np.concatenate((X_train,X_test))\n",
    "Y=np.concatenate((y_train,y_test))\n",
    "print(X.shape,Y.shape)\n",
    "X_train=X[:56000,:,:,:]\n",
    "y_train=Y[:56000]\n",
    "X_test=X[56000:,:,:,:]\n",
    "y_test=Y[56000:]\n"
   ]
  },
  {
   "cell_type": "code",
   "execution_count": 4,
   "metadata": {
    "colab": {
     "base_uri": "https://localhost:8080/"
    },
    "id": "I-oxo_3nFQSV",
    "outputId": "844cbd8f-a3f3-48ed-899e-098b5f36e87e"
   },
   "outputs": [],
   "source": [
    "# #reshape data from 3-D to 2-D array\n",
    "# X_train = X_train.reshape(60000, 784)\n",
    "# X_test = X_test.reshape(10000, 784)\n",
    "# #feature scaling\n",
    "# from sklearn.preprocessing import MinMaxScaler\n",
    "# minmax = MinMaxScaler()\n",
    "# #fit and transform training dataset\n",
    "# X_train = minmax.fit_transform(X_train)\n",
    "# #transform testing dataset\n",
    "# X_test = minmax.transform(X_test)\n",
    "# print('Number of unique classes: ', len(np.unique(y_train)))\n",
    "# print('Classes: ', np.unique(y_train))"
   ]
  },
  {
   "cell_type": "code",
   "execution_count": 22,
   "metadata": {
    "colab": {
     "base_uri": "https://localhost:8080/",
     "height": 336
    },
    "id": "PzP5UtolFTgl",
    "outputId": "717e8841-1899-42a5-f5c9-a00a2670632d"
   },
   "outputs": [
    {
     "data": {
      "image/png": "[encoded data removed]",
      "text/plain": [
       "<Figure size 1080x360 with 10 Axes>"
      ]
     },
     "metadata": {
      "needs_background": "light"
     },
     "output_type": "display_data"
    }
   ],
   "source": [
    "fig, axes = plt.subplots(nrows=2, ncols=5,figsize=(15,5))          \n",
    "ax = axes.ravel()\n",
    "for i in range(10):\n",
    "    ax[i].imshow(X_train[i].reshape(28,28))\n",
    "    ax[i].title.set_text('Class: ' + str(y_train[i]))              \n",
    "plt.subplots_adjust(hspace=0.5)                                    \n",
    "plt.show()"
   ]
  },
  {
   "cell_type": "code",
   "execution_count": 23,
   "metadata": {},
   "outputs": [
    {
     "data": {
      "text/plain": [
       "(56000, 28, 28, 1)"
      ]
     },
     "execution_count": 23,
     "metadata": {},
     "output_type": "execute_result"
    }
   ],
   "source": [
    "X_train.shape"
   ]
  },
  {
   "cell_type": "code",
   "execution_count": 24,
   "metadata": {
    "colab": {
     "base_uri": "https://localhost:8080/"
    },
    "id": "glVDoQzeFWAB",
    "outputId": "466952aa-f50f-4e43-dae3-00824ca1f5b3"
   },
   "outputs": [
    {
     "name": "stdout",
     "output_type": "stream",
     "text": [
      "Model: \"sequential_1\"\n",
      "_________________________________________________________________\n",
      " Layer (type)                Output Shape              Param #   \n",
      "=================================================================\n",
      " conv2d_1 (Conv2D)           (None, 26, 26, 64)        640       \n",
      "                                                                 \n",
      " max_pooling2d_1 (MaxPooling  (None, 13, 13, 64)       0         \n",
      " 2D)                                                             \n",
      "                                                                 \n",
      " flatten_1 (Flatten)         (None, 10816)             0         \n",
      "                                                                 \n",
      " dense_2 (Dense)             (None, 100)               1081700   \n",
      "                                                                 \n",
      " dense_3 (Dense)             (None, 100)               10100     \n",
      "                                                                 \n",
      "=================================================================\n",
      "Total params: 1,092,440\n",
      "Trainable params: 1,092,440\n",
      "Non-trainable params: 0\n",
      "_________________________________________________________________\n"
     ]
    }
   ],
   "source": [
    "#initializing CNN model\n",
    "classifier_e25 = Sequential()\n",
    "#adding convo2D \n",
    "classifier_e25.add( Convolution2D(64,(3,3),activation='relu',input_shape=(28,28,1)))\n",
    "#Maxpooling\n",
    "classifier_e25.add(MaxPooling2D(2,2))\n",
    "classifier_e25.add(Flatten())\n",
    "\n",
    "#add 1st hidden layer\n",
    "classifier_e25.add(Dense( 100,activation='relu'))\n",
    "#add output layer\n",
    "classifier_e25.add(Dense(100, activation='softmax'))\n",
    "#compile the neural network\n",
    "classifier_e25.compile(optimizer='adam', loss='sparse_categorical_crossentropy', metrics=['accuracy'])\n",
    "#model summary\n",
    "classifier_e25.summary()"
   ]
  },
  {
   "cell_type": "code",
   "execution_count": 25,
   "metadata": {
    "colab": {
     "base_uri": "https://localhost:8080/"
    },
    "id": "VbgpMYZ5FYrv",
    "outputId": "f93587f3-cc1b-46ad-ab1e-4ed507b65870"
   },
   "outputs": [
    {
     "name": "stderr",
     "output_type": "stream",
     "text": [
      "2022-04-08 16:30:01.756161: W tensorflow/core/framework/cpu_allocator_impl.cc:82] Allocation of 175616000 exceeds 10% of free system memory.\n"
     ]
    },
    {
     "name": "stdout",
     "output_type": "stream",
     "text": [
      "Epoch 1/10\n",
      "1750/1750 [==============================] - 39s 22ms/step - loss: 0.4247 - accuracy: 0.8518\n",
      "Epoch 2/10\n",
      "1750/1750 [==============================] - 38s 22ms/step - loss: 0.2780 - accuracy: 0.8997\n",
      "Epoch 3/10\n",
      "1750/1750 [==============================] - 38s 22ms/step - loss: 0.2329 - accuracy: 0.9144\n",
      "Epoch 4/10\n",
      "1750/1750 [==============================] - 38s 22ms/step - loss: 0.2027 - accuracy: 0.9254\n",
      "Epoch 5/10\n",
      "1750/1750 [==============================] - 38s 22ms/step - loss: 0.1738 - accuracy: 0.9356\n",
      "Epoch 6/10\n",
      "1750/1750 [==============================] - 38s 22ms/step - loss: 0.1482 - accuracy: 0.9451\n",
      "Epoch 7/10\n",
      "1750/1750 [==============================] - 39s 22ms/step - loss: 0.1268 - accuracy: 0.9528\n",
      "Epoch 8/10\n",
      "1750/1750 [==============================] - 39s 22ms/step - loss: 0.1063 - accuracy: 0.9616\n",
      "Epoch 9/10\n",
      "1750/1750 [==============================] - 39s 22ms/step - loss: 0.0892 - accuracy: 0.9668\n",
      "Epoch 10/10\n",
      "1750/1750 [==============================] - 39s 22ms/step - loss: 0.0775 - accuracy: 0.9723\n"
     ]
    }
   ],
   "source": [
    "#fit training dataset into the model\n",
    "classifier_e25_fit = classifier_e25.fit(X_train, y_train, epochs=10, verbose=1)"
   ]
  },
  {
   "cell_type": "code",
   "execution_count": 26,
   "metadata": {
    "colab": {
     "base_uri": "https://localhost:8080/",
     "height": 81
    },
    "id": "2LMAx6DaJHc-",
    "outputId": "c517a3b7-0518-4076-fc1f-8832700738dd"
   },
   "outputs": [
    {
     "data": {
      "text/html": [
       "<div>\n",
       "<style scoped>\n",
       "    .dataframe tbody tr th:only-of-type {\n",
       "        vertical-align: middle;\n",
       "    }\n",
       "\n",
       "    .dataframe tbody tr th {\n",
       "        vertical-align: top;\n",
       "    }\n",
       "\n",
       "    .dataframe thead th {\n",
       "        text-align: right;\n",
       "    }\n",
       "</style>\n",
       "<table border=\"1\" class=\"dataframe\">\n",
       "  <thead>\n",
       "    <tr style=\"text-align: right;\">\n",
       "      <th></th>\n",
       "      <th>Test accuracy</th>\n",
       "      <th>Total Loss</th>\n",
       "    </tr>\n",
       "  </thead>\n",
       "  <tbody>\n",
       "    <tr>\n",
       "      <th>0</th>\n",
       "      <td>91.193</td>\n",
       "      <td>0.313</td>\n",
       "    </tr>\n",
       "  </tbody>\n",
       "</table>\n",
       "</div>"
      ],
      "text/plain": [
       "   Test accuracy  Total Loss\n",
       "0         91.193       0.313"
      ]
     },
     "metadata": {},
     "output_type": "display_data"
    }
   ],
   "source": [
    "#evaluate the model for testing dataset\n",
    "test_loss_e25 = classifier_e25.evaluate(X_test, y_test, verbose=0)\n",
    "#calculate evaluation parameters\n",
    "#f1_e25 = f1_score(y_test, classifier_e25.predict_classes(X_test), average='micro')\n",
    "#roc_e25 = roc_auc_score(y_test, classifier_e25.predict_proba(X_test), multi_class='ovo')\n",
    "#create evaluation dataframe\n",
    "stats_e25 = pd.DataFrame({'Test accuracy' :  round(test_loss_e25[1]*100,3),\n",
    "                      'Total Loss'    : round(test_loss_e25[0],3)}, index=[0])\n",
    "#print evaluation dataframe\n",
    "display(stats_e25)"
   ]
  },
  {
   "cell_type": "code",
   "execution_count": null,
   "metadata": {},
   "outputs": [],
   "source": []
  }
 ],
 "metadata": {
  "colab": {
   "name": "fashionMNIST_ANN.ipynb",
   "provenance": []
  },
  "kernelspec": {
   "display_name": "Python 3 (ipykernel)",
   "language": "python",
   "name": "python3"
  },
  "language_info": {
   "codemirror_mode": {
    "name": "ipython",
    "version": 3
   },
   "file_extension": ".py",
   "mimetype": "text/x-python",
   "name": "python",
   "nbconvert_exporter": "python",
   "pygments_lexer": "ipython3",
   "version": "3.9.7"
  }
 },
 "nbformat": 4,
 "nbformat_minor": 1
}
