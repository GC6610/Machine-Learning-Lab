{
 "cells": [
  {
   "cell_type": "code",
   "execution_count": 3,
   "id": "58ba562c",
   "metadata": {},
   "outputs": [],
   "source": [
    "#Importing necessary Libraries\n",
    "import numpy as np\n",
    "import pandas as pd\n",
    "import tensorflow as tf"
   ]
  },
  {
   "cell_type": "code",
   "execution_count": 25,
   "id": "d627f9d2",
   "metadata": {},
   "outputs": [],
   "source": [
    "#Loading Dataset\n",
    "data = pd.read_csv(\"Churn_Modelling.csv\")"
   ]
  },
  {
   "cell_type": "code",
   "execution_count": 26,
   "id": "42a4532e",
   "metadata": {},
   "outputs": [],
   "source": [
    "#Generating Matrix of Features\n",
    "X = data.iloc[:,3:-1].values\n",
    "Y = data.iloc[:,-1].values"
   ]
  },
  {
   "cell_type": "code",
   "execution_count": 27,
   "id": "c339cb04",
   "metadata": {},
   "outputs": [],
   "source": [
    "from sklearn.preprocessing import LabelEncoder\n",
    "LE1=LabelEncoder()\n",
    "X[:,2]=np.array(LE1.fit_transform(X[:,2]))"
   ]
  },
  {
   "cell_type": "code",
   "execution_count": 28,
   "id": "4fd77574",
   "metadata": {},
   "outputs": [],
   "source": [
    "#Encoding Categorical variable Geography\n",
    "from sklearn.compose import ColumnTransformer\n",
    "from sklearn.preprocessing import OneHotEncoder\n",
    "ct =ColumnTransformer(transformers=[('encoder',OneHotEncoder(),[1])],remainder=\"passthrough\")\n",
    "X = np.array(ct.fit_transform(X))"
   ]
  },
  {
   "cell_type": "code",
   "execution_count": 29,
   "id": "f094c045",
   "metadata": {},
   "outputs": [],
   "source": [
    "#Splitting dataset into training and testing dataset\n",
    "from sklearn.model_selection import train_test_split\n",
    "X_train,X_test,Y_train,Y_test = train_test_split(X,Y,test_size=0.2,random_state=0)"
   ]
  },
  {
   "cell_type": "code",
   "execution_count": 30,
   "id": "eeca6898",
   "metadata": {},
   "outputs": [],
   "source": [
    "#Performing Feature Scaling\n",
    "from sklearn.preprocessing import StandardScaler\n",
    "sc = StandardScaler()\n",
    "X_train = sc.fit_transform(X_train)\n",
    "X_test = sc.transform(X_test)"
   ]
  },
  {
   "cell_type": "code",
   "execution_count": 48,
   "id": "7aba375b",
   "metadata": {},
   "outputs": [],
   "source": [
    "#Initialising ANN\n",
    "ann = tf.keras.models.Sequential()"
   ]
  },
  {
   "cell_type": "code",
   "execution_count": 49,
   "id": "9166fc4b",
   "metadata": {},
   "outputs": [],
   "source": [
    "#Adding First Hidden Layer\n",
    "ann.add(tf.keras.layers.Dense(units=6,activation=\"relu\"))"
   ]
  },
  {
   "cell_type": "code",
   "execution_count": 50,
   "id": "6682e824",
   "metadata": {},
   "outputs": [],
   "source": [
    "#Adding Second Hidden Layer\n",
    "ann.add(tf.keras.layers.Dense(units=6,activation=\"relu\"))"
   ]
  },
  {
   "cell_type": "code",
   "execution_count": 51,
   "id": "60927e54",
   "metadata": {},
   "outputs": [],
   "source": [
    "#Adding Output Layer\n",
    "ann.add(tf.keras.layers.Dense(units=1,activation=\"sigmoid\"))"
   ]
  },
  {
   "cell_type": "code",
   "execution_count": 52,
   "id": "80f04692",
   "metadata": {},
   "outputs": [],
   "source": [
    "#Compiling ANN\n",
    "ann.compile(optimizer=\"adam\",loss=\"binary_crossentropy\",metrics=['accuracy'])"
   ]
  },
  {
   "cell_type": "code",
   "execution_count": 53,
   "id": "7759e4fb",
   "metadata": {},
   "outputs": [
    {
     "name": "stdout",
     "output_type": "stream",
     "text": [
      "Epoch 1/100\n",
      "250/250 [==============================] - 1s 913us/step - loss: 0.5477 - accuracy: 0.7820\n",
      "Epoch 2/100\n",
      "250/250 [==============================] - 0s 869us/step - loss: 0.4781 - accuracy: 0.7960\n",
      "Epoch 3/100\n",
      "250/250 [==============================] - 0s 871us/step - loss: 0.4537 - accuracy: 0.7974\n",
      "Epoch 4/100\n",
      "250/250 [==============================] - 0s 927us/step - loss: 0.4372 - accuracy: 0.8061\n",
      "Epoch 5/100\n",
      "250/250 [==============================] - 0s 898us/step - loss: 0.4261 - accuracy: 0.8116\n",
      "Epoch 6/100\n",
      "250/250 [==============================] - 0s 886us/step - loss: 0.4171 - accuracy: 0.8160\n",
      "Epoch 7/100\n",
      "250/250 [==============================] - 0s 918us/step - loss: 0.4067 - accuracy: 0.8184\n",
      "Epoch 8/100\n",
      "250/250 [==============================] - 0s 876us/step - loss: 0.3949 - accuracy: 0.8219\n",
      "Epoch 9/100\n",
      "250/250 [==============================] - 0s 890us/step - loss: 0.3852 - accuracy: 0.8340\n",
      "Epoch 10/100\n",
      "250/250 [==============================] - 0s 874us/step - loss: 0.3765 - accuracy: 0.8430\n",
      "Epoch 11/100\n",
      "250/250 [==============================] - 0s 929us/step - loss: 0.3693 - accuracy: 0.8461\n",
      "Epoch 12/100\n",
      "250/250 [==============================] - 0s 854us/step - loss: 0.3631 - accuracy: 0.8478\n",
      "Epoch 13/100\n",
      "250/250 [==============================] - 0s 903us/step - loss: 0.3575 - accuracy: 0.8529\n",
      "Epoch 14/100\n",
      "250/250 [==============================] - 0s 894us/step - loss: 0.3534 - accuracy: 0.8541\n",
      "Epoch 15/100\n",
      "250/250 [==============================] - 0s 881us/step - loss: 0.3501 - accuracy: 0.8556\n",
      "Epoch 16/100\n",
      "250/250 [==============================] - 0s 881us/step - loss: 0.3477 - accuracy: 0.8574\n",
      "Epoch 17/100\n",
      "250/250 [==============================] - 0s 883us/step - loss: 0.3455 - accuracy: 0.8587\n",
      "Epoch 18/100\n",
      "250/250 [==============================] - 0s 879us/step - loss: 0.3438 - accuracy: 0.8597\n",
      "Epoch 19/100\n",
      "250/250 [==============================] - 0s 879us/step - loss: 0.3425 - accuracy: 0.8599\n",
      "Epoch 20/100\n",
      "250/250 [==============================] - 0s 864us/step - loss: 0.3416 - accuracy: 0.8596\n",
      "Epoch 21/100\n",
      "250/250 [==============================] - 0s 892us/step - loss: 0.3406 - accuracy: 0.8597\n",
      "Epoch 22/100\n",
      "250/250 [==============================] - 0s 885us/step - loss: 0.3404 - accuracy: 0.8611\n",
      "Epoch 23/100\n",
      "250/250 [==============================] - 0s 874us/step - loss: 0.3393 - accuracy: 0.8602\n",
      "Epoch 24/100\n",
      "250/250 [==============================] - 0s 887us/step - loss: 0.3385 - accuracy: 0.8609\n",
      "Epoch 25/100\n",
      "250/250 [==============================] - 0s 913us/step - loss: 0.3379 - accuracy: 0.8627\n",
      "Epoch 26/100\n",
      "250/250 [==============================] - 0s 889us/step - loss: 0.3374 - accuracy: 0.8619\n",
      "Epoch 27/100\n",
      "250/250 [==============================] - 0s 910us/step - loss: 0.3367 - accuracy: 0.8616\n",
      "Epoch 28/100\n",
      "250/250 [==============================] - 0s 872us/step - loss: 0.3369 - accuracy: 0.8596\n",
      "Epoch 29/100\n",
      "250/250 [==============================] - 0s 872us/step - loss: 0.3364 - accuracy: 0.8625\n",
      "Epoch 30/100\n",
      "250/250 [==============================] - 0s 876us/step - loss: 0.3360 - accuracy: 0.8631\n",
      "Epoch 31/100\n",
      "250/250 [==============================] - 0s 899us/step - loss: 0.3357 - accuracy: 0.8614\n",
      "Epoch 32/100\n",
      "250/250 [==============================] - 0s 879us/step - loss: 0.3356 - accuracy: 0.8625\n",
      "Epoch 33/100\n",
      "250/250 [==============================] - 0s 884us/step - loss: 0.3352 - accuracy: 0.8622\n",
      "Epoch 34/100\n",
      "250/250 [==============================] - 0s 883us/step - loss: 0.3354 - accuracy: 0.8626\n",
      "Epoch 35/100\n",
      "250/250 [==============================] - 0s 879us/step - loss: 0.3348 - accuracy: 0.8624\n",
      "Epoch 36/100\n",
      "250/250 [==============================] - 0s 873us/step - loss: 0.3348 - accuracy: 0.8624\n",
      "Epoch 37/100\n",
      "250/250 [==============================] - 0s 890us/step - loss: 0.3343 - accuracy: 0.8622\n",
      "Epoch 38/100\n",
      "250/250 [==============================] - 0s 917us/step - loss: 0.3340 - accuracy: 0.8619\n",
      "Epoch 39/100\n",
      "250/250 [==============================] - 0s 885us/step - loss: 0.3338 - accuracy: 0.8635\n",
      "Epoch 40/100\n",
      "250/250 [==============================] - 0s 891us/step - loss: 0.3338 - accuracy: 0.8631\n",
      "Epoch 41/100\n",
      "250/250 [==============================] - 0s 873us/step - loss: 0.3332 - accuracy: 0.8631\n",
      "Epoch 42/100\n",
      "250/250 [==============================] - 0s 898us/step - loss: 0.3331 - accuracy: 0.8633\n",
      "Epoch 43/100\n",
      "250/250 [==============================] - 0s 882us/step - loss: 0.3335 - accuracy: 0.8643\n",
      "Epoch 44/100\n",
      "250/250 [==============================] - 0s 893us/step - loss: 0.3328 - accuracy: 0.8630\n",
      "Epoch 45/100\n",
      "250/250 [==============================] - 0s 895us/step - loss: 0.3325 - accuracy: 0.8629\n",
      "Epoch 46/100\n",
      "250/250 [==============================] - 0s 875us/step - loss: 0.3327 - accuracy: 0.8622\n",
      "Epoch 47/100\n",
      "250/250 [==============================] - 0s 885us/step - loss: 0.3325 - accuracy: 0.8633\n",
      "Epoch 48/100\n",
      "250/250 [==============================] - 0s 874us/step - loss: 0.3316 - accuracy: 0.8644\n",
      "Epoch 49/100\n",
      "250/250 [==============================] - 0s 875us/step - loss: 0.3323 - accuracy: 0.8620\n",
      "Epoch 50/100\n",
      "250/250 [==============================] - 0s 878us/step - loss: 0.3326 - accuracy: 0.8640\n",
      "Epoch 51/100\n",
      "250/250 [==============================] - 0s 865us/step - loss: 0.3317 - accuracy: 0.8636\n",
      "Epoch 52/100\n",
      "250/250 [==============================] - 0s 885us/step - loss: 0.3318 - accuracy: 0.8634\n",
      "Epoch 53/100\n",
      "250/250 [==============================] - 0s 889us/step - loss: 0.3319 - accuracy: 0.8639\n",
      "Epoch 54/100\n",
      "250/250 [==============================] - 0s 871us/step - loss: 0.3314 - accuracy: 0.8635\n",
      "Epoch 55/100\n",
      "250/250 [==============================] - 0s 867us/step - loss: 0.3317 - accuracy: 0.8637\n",
      "Epoch 56/100\n",
      "250/250 [==============================] - 0s 867us/step - loss: 0.3316 - accuracy: 0.8627\n",
      "Epoch 57/100\n",
      "250/250 [==============================] - 0s 873us/step - loss: 0.3309 - accuracy: 0.8634\n",
      "Epoch 58/100\n",
      "250/250 [==============================] - 0s 889us/step - loss: 0.3315 - accuracy: 0.8636\n",
      "Epoch 59/100\n",
      "250/250 [==============================] - 0s 870us/step - loss: 0.3311 - accuracy: 0.8637\n",
      "Epoch 60/100\n",
      "250/250 [==============================] - 0s 875us/step - loss: 0.3309 - accuracy: 0.8635\n",
      "Epoch 61/100\n",
      "250/250 [==============================] - 0s 868us/step - loss: 0.3306 - accuracy: 0.8648\n",
      "Epoch 62/100\n",
      "250/250 [==============================] - 0s 870us/step - loss: 0.3309 - accuracy: 0.8652\n",
      "Epoch 63/100\n",
      "250/250 [==============================] - 0s 860us/step - loss: 0.3305 - accuracy: 0.8636\n",
      "Epoch 64/100\n",
      "250/250 [==============================] - 0s 888us/step - loss: 0.3305 - accuracy: 0.8640\n",
      "Epoch 65/100\n",
      "250/250 [==============================] - 0s 870us/step - loss: 0.3304 - accuracy: 0.8635\n",
      "Epoch 66/100\n",
      "250/250 [==============================] - 0s 871us/step - loss: 0.3304 - accuracy: 0.8648\n",
      "Epoch 67/100\n",
      "250/250 [==============================] - 0s 869us/step - loss: 0.3305 - accuracy: 0.8641\n",
      "Epoch 68/100\n",
      "250/250 [==============================] - 0s 877us/step - loss: 0.3301 - accuracy: 0.8655\n",
      "Epoch 69/100\n",
      "250/250 [==============================] - 0s 874us/step - loss: 0.3300 - accuracy: 0.8650\n",
      "Epoch 70/100\n",
      "250/250 [==============================] - 0s 869us/step - loss: 0.3301 - accuracy: 0.8656\n",
      "Epoch 71/100\n",
      "250/250 [==============================] - 0s 892us/step - loss: 0.3299 - accuracy: 0.8648\n",
      "Epoch 72/100\n",
      "250/250 [==============================] - 0s 880us/step - loss: 0.3298 - accuracy: 0.8641\n",
      "Epoch 73/100\n",
      "250/250 [==============================] - 0s 871us/step - loss: 0.3297 - accuracy: 0.8658\n",
      "Epoch 74/100\n",
      "250/250 [==============================] - 0s 874us/step - loss: 0.3297 - accuracy: 0.8645\n",
      "Epoch 75/100\n",
      "250/250 [==============================] - 0s 882us/step - loss: 0.3297 - accuracy: 0.8666\n",
      "Epoch 76/100\n",
      "250/250 [==============================] - 0s 899us/step - loss: 0.3295 - accuracy: 0.8654\n",
      "Epoch 77/100\n",
      "250/250 [==============================] - 0s 888us/step - loss: 0.3295 - accuracy: 0.8650\n",
      "Epoch 78/100\n",
      "250/250 [==============================] - 0s 876us/step - loss: 0.3295 - accuracy: 0.8654\n",
      "Epoch 79/100\n"
     ]
    },
    {
     "name": "stdout",
     "output_type": "stream",
     "text": [
      "250/250 [==============================] - 0s 913us/step - loss: 0.3295 - accuracy: 0.8664\n",
      "Epoch 80/100\n",
      "250/250 [==============================] - 0s 884us/step - loss: 0.3295 - accuracy: 0.8649\n",
      "Epoch 81/100\n",
      "250/250 [==============================] - 0s 905us/step - loss: 0.3294 - accuracy: 0.8650\n",
      "Epoch 82/100\n",
      "250/250 [==============================] - 0s 904us/step - loss: 0.3292 - accuracy: 0.8650\n",
      "Epoch 83/100\n",
      "250/250 [==============================] - 0s 961us/step - loss: 0.3290 - accuracy: 0.8659\n",
      "Epoch 84/100\n",
      "250/250 [==============================] - 0s 911us/step - loss: 0.3292 - accuracy: 0.8655\n",
      "Epoch 85/100\n",
      "250/250 [==============================] - 0s 907us/step - loss: 0.3288 - accuracy: 0.8661\n",
      "Epoch 86/100\n",
      "250/250 [==============================] - 0s 952us/step - loss: 0.3295 - accuracy: 0.8646\n",
      "Epoch 87/100\n",
      "250/250 [==============================] - 0s 916us/step - loss: 0.3291 - accuracy: 0.8646\n",
      "Epoch 88/100\n",
      "250/250 [==============================] - 0s 908us/step - loss: 0.3289 - accuracy: 0.8658\n",
      "Epoch 89/100\n",
      "250/250 [==============================] - 0s 943us/step - loss: 0.3283 - accuracy: 0.8644\n",
      "Epoch 90/100\n",
      "250/250 [==============================] - 0s 881us/step - loss: 0.3289 - accuracy: 0.8648\n",
      "Epoch 91/100\n",
      "250/250 [==============================] - 0s 919us/step - loss: 0.3290 - accuracy: 0.8654\n",
      "Epoch 92/100\n",
      "250/250 [==============================] - 0s 914us/step - loss: 0.3289 - accuracy: 0.8655\n",
      "Epoch 93/100\n",
      "250/250 [==============================] - 0s 928us/step - loss: 0.3287 - accuracy: 0.8660\n",
      "Epoch 94/100\n",
      "250/250 [==============================] - 0s 867us/step - loss: 0.3285 - accuracy: 0.8655\n",
      "Epoch 95/100\n",
      "250/250 [==============================] - 0s 910us/step - loss: 0.3283 - accuracy: 0.8648\n",
      "Epoch 96/100\n",
      "250/250 [==============================] - 0s 934us/step - loss: 0.3287 - accuracy: 0.8645\n",
      "Epoch 97/100\n",
      "250/250 [==============================] - 0s 893us/step - loss: 0.3283 - accuracy: 0.8646\n",
      "Epoch 98/100\n",
      "250/250 [==============================] - 0s 922us/step - loss: 0.3285 - accuracy: 0.8655\n",
      "Epoch 99/100\n",
      "250/250 [==============================] - 0s 877us/step - loss: 0.3286 - accuracy: 0.8655\n",
      "Epoch 100/100\n",
      "250/250 [==============================] - 0s 903us/step - loss: 0.3281 - accuracy: 0.8660\n"
     ]
    },
    {
     "data": {
      "text/plain": [
       "<keras.callbacks.History at 0x7fc21405ac10>"
      ]
     },
     "execution_count": 53,
     "metadata": {},
     "output_type": "execute_result"
    }
   ],
   "source": [
    "#Fitting ANN\n",
    "ann.fit(X_train,Y_train,batch_size=32,epochs = 100)"
   ]
  },
  {
   "cell_type": "code",
   "execution_count": 54,
   "id": "8627c93b",
   "metadata": {},
   "outputs": [
    {
     "name": "stdout",
     "output_type": "stream",
     "text": [
      "[[False]]\n"
     ]
    }
   ],
   "source": [
    "#Predicting result for Single Observation\n",
    "print(ann.predict(sc.transform([[1, 0, 0, 600, 1, 40, 3, 60000, 2, 1, 1,50000]])) > 0.5)"
   ]
  },
  {
   "cell_type": "code",
   "execution_count": null,
   "id": "e12830c0",
   "metadata": {},
   "outputs": [],
   "source": []
  },
  {
   "cell_type": "code",
   "execution_count": null,
   "id": "a5fbcb1d",
   "metadata": {},
   "outputs": [],
   "source": []
  },
  {
   "cell_type": "code",
   "execution_count": null,
   "id": "a640272e",
   "metadata": {},
   "outputs": [],
   "source": []
  }
 ],
 "metadata": {
  "kernelspec": {
   "display_name": "Python 3 (ipykernel)",
   "language": "python",
   "name": "python3"
  },
  "language_info": {
   "codemirror_mode": {
    "name": "ipython",
    "version": 3
   },
   "file_extension": ".py",
   "mimetype": "text/x-python",
   "name": "python",
   "nbconvert_exporter": "python",
   "pygments_lexer": "ipython3",
   "version": "3.8.10"
  }
 },
 "nbformat": 4,
 "nbformat_minor": 5
}
